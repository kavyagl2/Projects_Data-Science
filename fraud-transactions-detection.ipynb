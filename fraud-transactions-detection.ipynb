{
 "cells": [
  {
   "cell_type": "code",
   "execution_count": 1,
   "id": "182300b2",
   "metadata": {
    "_cell_guid": "b1076dfc-b9ad-4769-8c92-a6c4dae69d19",
    "_uuid": "8f2839f25d086af736a60e9eeb907d3b93b6e0e5",
    "execution": {
     "iopub.execute_input": "2024-02-24T14:00:08.617730Z",
     "iopub.status.busy": "2024-02-24T14:00:08.616907Z",
     "iopub.status.idle": "2024-02-24T14:00:14.115550Z",
     "shell.execute_reply": "2024-02-24T14:00:14.114646Z"
    },
    "papermill": {
     "duration": 5.510922,
     "end_time": "2024-02-24T14:00:14.118146",
     "exception": false,
     "start_time": "2024-02-24T14:00:08.607224",
     "status": "completed"
    },
    "tags": []
   },
   "outputs": [],
   "source": [
    "import numpy as np\n",
    "import pandas as pd\n",
    "import torch"
   ]
  },
  {
   "cell_type": "code",
   "execution_count": 2,
   "id": "04a768a6",
   "metadata": {
    "execution": {
     "iopub.execute_input": "2024-02-24T14:00:14.136767Z",
     "iopub.status.busy": "2024-02-24T14:00:14.136299Z",
     "iopub.status.idle": "2024-02-24T14:00:14.218426Z",
     "shell.execute_reply": "2024-02-24T14:00:14.217395Z"
    },
    "papermill": {
     "duration": 0.09331,
     "end_time": "2024-02-24T14:00:14.220437",
     "exception": false,
     "start_time": "2024-02-24T14:00:14.127127",
     "status": "completed"
    },
    "tags": []
   },
   "outputs": [],
   "source": [
    "if torch.cuda.is_available():\n",
    "    device='cuda'\n",
    "else:\n",
    "    device='cpu'"
   ]
  },
  {
   "cell_type": "code",
   "execution_count": 3,
   "id": "95569af6",
   "metadata": {
    "execution": {
     "iopub.execute_input": "2024-02-24T14:00:14.237145Z",
     "iopub.status.busy": "2024-02-24T14:00:14.236853Z",
     "iopub.status.idle": "2024-02-24T14:00:32.304982Z",
     "shell.execute_reply": "2024-02-24T14:00:32.304002Z"
    },
    "papermill": {
     "duration": 18.079025,
     "end_time": "2024-02-24T14:00:32.307295",
     "exception": false,
     "start_time": "2024-02-24T14:00:14.228270",
     "status": "completed"
    },
    "tags": []
   },
   "outputs": [
    {
     "data": {
      "text/plain": [
       "(6362620, 11)"
      ]
     },
     "execution_count": 3,
     "metadata": {},
     "output_type": "execute_result"
    }
   ],
   "source": [
    "#reading the data\n",
    "df= pd.read_csv(\"/kaggle/input/fraudulent-transactions-data/Fraud.csv\")\n",
    "#getting the number of rows and columns\n",
    "df.shape"
   ]
  },
  {
   "cell_type": "code",
   "execution_count": 4,
   "id": "16eb5dc1",
   "metadata": {
    "execution": {
     "iopub.execute_input": "2024-02-24T14:00:32.325350Z",
     "iopub.status.busy": "2024-02-24T14:00:32.325041Z",
     "iopub.status.idle": "2024-02-24T14:00:32.357353Z",
     "shell.execute_reply": "2024-02-24T14:00:32.356405Z"
    },
    "papermill": {
     "duration": 0.043884,
     "end_time": "2024-02-24T14:00:32.359672",
     "exception": false,
     "start_time": "2024-02-24T14:00:32.315788",
     "status": "completed"
    },
    "tags": []
   },
   "outputs": [
    {
     "data": {
      "text/html": [
       "<div>\n",
       "<style scoped>\n",
       "    .dataframe tbody tr th:only-of-type {\n",
       "        vertical-align: middle;\n",
       "    }\n",
       "\n",
       "    .dataframe tbody tr th {\n",
       "        vertical-align: top;\n",
       "    }\n",
       "\n",
       "    .dataframe thead th {\n",
       "        text-align: right;\n",
       "    }\n",
       "</style>\n",
       "<table border=\"1\" class=\"dataframe\">\n",
       "  <thead>\n",
       "    <tr style=\"text-align: right;\">\n",
       "      <th></th>\n",
       "      <th>step</th>\n",
       "      <th>type</th>\n",
       "      <th>amount</th>\n",
       "      <th>nameOrig</th>\n",
       "      <th>oldbalanceOrg</th>\n",
       "      <th>newbalanceOrig</th>\n",
       "      <th>nameDest</th>\n",
       "      <th>oldbalanceDest</th>\n",
       "      <th>newbalanceDest</th>\n",
       "      <th>isFraud</th>\n",
       "      <th>isFlaggedFraud</th>\n",
       "    </tr>\n",
       "  </thead>\n",
       "  <tbody>\n",
       "    <tr>\n",
       "      <th>0</th>\n",
       "      <td>1</td>\n",
       "      <td>PAYMENT</td>\n",
       "      <td>9839.64</td>\n",
       "      <td>C1231006815</td>\n",
       "      <td>170136.0</td>\n",
       "      <td>160296.36</td>\n",
       "      <td>M1979787155</td>\n",
       "      <td>0.00</td>\n",
       "      <td>0.00</td>\n",
       "      <td>0</td>\n",
       "      <td>0</td>\n",
       "    </tr>\n",
       "    <tr>\n",
       "      <th>1</th>\n",
       "      <td>1</td>\n",
       "      <td>PAYMENT</td>\n",
       "      <td>1864.28</td>\n",
       "      <td>C1666544295</td>\n",
       "      <td>21249.0</td>\n",
       "      <td>19384.72</td>\n",
       "      <td>M2044282225</td>\n",
       "      <td>0.00</td>\n",
       "      <td>0.00</td>\n",
       "      <td>0</td>\n",
       "      <td>0</td>\n",
       "    </tr>\n",
       "    <tr>\n",
       "      <th>2</th>\n",
       "      <td>1</td>\n",
       "      <td>TRANSFER</td>\n",
       "      <td>181.00</td>\n",
       "      <td>C1305486145</td>\n",
       "      <td>181.0</td>\n",
       "      <td>0.00</td>\n",
       "      <td>C553264065</td>\n",
       "      <td>0.00</td>\n",
       "      <td>0.00</td>\n",
       "      <td>1</td>\n",
       "      <td>0</td>\n",
       "    </tr>\n",
       "    <tr>\n",
       "      <th>3</th>\n",
       "      <td>1</td>\n",
       "      <td>CASH_OUT</td>\n",
       "      <td>181.00</td>\n",
       "      <td>C840083671</td>\n",
       "      <td>181.0</td>\n",
       "      <td>0.00</td>\n",
       "      <td>C38997010</td>\n",
       "      <td>21182.00</td>\n",
       "      <td>0.00</td>\n",
       "      <td>1</td>\n",
       "      <td>0</td>\n",
       "    </tr>\n",
       "    <tr>\n",
       "      <th>4</th>\n",
       "      <td>1</td>\n",
       "      <td>PAYMENT</td>\n",
       "      <td>11668.14</td>\n",
       "      <td>C2048537720</td>\n",
       "      <td>41554.0</td>\n",
       "      <td>29885.86</td>\n",
       "      <td>M1230701703</td>\n",
       "      <td>0.00</td>\n",
       "      <td>0.00</td>\n",
       "      <td>0</td>\n",
       "      <td>0</td>\n",
       "    </tr>\n",
       "    <tr>\n",
       "      <th>...</th>\n",
       "      <td>...</td>\n",
       "      <td>...</td>\n",
       "      <td>...</td>\n",
       "      <td>...</td>\n",
       "      <td>...</td>\n",
       "      <td>...</td>\n",
       "      <td>...</td>\n",
       "      <td>...</td>\n",
       "      <td>...</td>\n",
       "      <td>...</td>\n",
       "      <td>...</td>\n",
       "    </tr>\n",
       "    <tr>\n",
       "      <th>195</th>\n",
       "      <td>1</td>\n",
       "      <td>CASH_OUT</td>\n",
       "      <td>210370.09</td>\n",
       "      <td>C2121995675</td>\n",
       "      <td>0.0</td>\n",
       "      <td>0.00</td>\n",
       "      <td>C1170794006</td>\n",
       "      <td>1442298.03</td>\n",
       "      <td>22190.99</td>\n",
       "      <td>0</td>\n",
       "      <td>0</td>\n",
       "    </tr>\n",
       "    <tr>\n",
       "      <th>196</th>\n",
       "      <td>1</td>\n",
       "      <td>CASH_OUT</td>\n",
       "      <td>36437.06</td>\n",
       "      <td>C2120063568</td>\n",
       "      <td>0.0</td>\n",
       "      <td>0.00</td>\n",
       "      <td>C1740000325</td>\n",
       "      <td>154606.00</td>\n",
       "      <td>1363368.51</td>\n",
       "      <td>0</td>\n",
       "      <td>0</td>\n",
       "    </tr>\n",
       "    <tr>\n",
       "      <th>197</th>\n",
       "      <td>1</td>\n",
       "      <td>CASH_OUT</td>\n",
       "      <td>82691.56</td>\n",
       "      <td>C1620409359</td>\n",
       "      <td>0.0</td>\n",
       "      <td>0.00</td>\n",
       "      <td>C248609774</td>\n",
       "      <td>657983.89</td>\n",
       "      <td>6453430.91</td>\n",
       "      <td>0</td>\n",
       "      <td>0</td>\n",
       "    </tr>\n",
       "    <tr>\n",
       "      <th>198</th>\n",
       "      <td>1</td>\n",
       "      <td>CASH_OUT</td>\n",
       "      <td>338767.10</td>\n",
       "      <td>C691691381</td>\n",
       "      <td>0.0</td>\n",
       "      <td>0.00</td>\n",
       "      <td>C453211571</td>\n",
       "      <td>544481.28</td>\n",
       "      <td>3461666.05</td>\n",
       "      <td>0</td>\n",
       "      <td>0</td>\n",
       "    </tr>\n",
       "    <tr>\n",
       "      <th>199</th>\n",
       "      <td>1</td>\n",
       "      <td>CASH_OUT</td>\n",
       "      <td>187728.59</td>\n",
       "      <td>C264978436</td>\n",
       "      <td>0.0</td>\n",
       "      <td>0.00</td>\n",
       "      <td>C1360767589</td>\n",
       "      <td>394124.51</td>\n",
       "      <td>2107965.39</td>\n",
       "      <td>0</td>\n",
       "      <td>0</td>\n",
       "    </tr>\n",
       "  </tbody>\n",
       "</table>\n",
       "<p>200 rows × 11 columns</p>\n",
       "</div>"
      ],
      "text/plain": [
       "     step      type     amount     nameOrig  oldbalanceOrg  newbalanceOrig  \\\n",
       "0       1   PAYMENT    9839.64  C1231006815       170136.0       160296.36   \n",
       "1       1   PAYMENT    1864.28  C1666544295        21249.0        19384.72   \n",
       "2       1  TRANSFER     181.00  C1305486145          181.0            0.00   \n",
       "3       1  CASH_OUT     181.00   C840083671          181.0            0.00   \n",
       "4       1   PAYMENT   11668.14  C2048537720        41554.0        29885.86   \n",
       "..    ...       ...        ...          ...            ...             ...   \n",
       "195     1  CASH_OUT  210370.09  C2121995675            0.0            0.00   \n",
       "196     1  CASH_OUT   36437.06  C2120063568            0.0            0.00   \n",
       "197     1  CASH_OUT   82691.56  C1620409359            0.0            0.00   \n",
       "198     1  CASH_OUT  338767.10   C691691381            0.0            0.00   \n",
       "199     1  CASH_OUT  187728.59   C264978436            0.0            0.00   \n",
       "\n",
       "        nameDest  oldbalanceDest  newbalanceDest  isFraud  isFlaggedFraud  \n",
       "0    M1979787155            0.00            0.00        0               0  \n",
       "1    M2044282225            0.00            0.00        0               0  \n",
       "2     C553264065            0.00            0.00        1               0  \n",
       "3      C38997010        21182.00            0.00        1               0  \n",
       "4    M1230701703            0.00            0.00        0               0  \n",
       "..           ...             ...             ...      ...             ...  \n",
       "195  C1170794006      1442298.03        22190.99        0               0  \n",
       "196  C1740000325       154606.00      1363368.51        0               0  \n",
       "197   C248609774       657983.89      6453430.91        0               0  \n",
       "198   C453211571       544481.28      3461666.05        0               0  \n",
       "199  C1360767589       394124.51      2107965.39        0               0  \n",
       "\n",
       "[200 rows x 11 columns]"
      ]
     },
     "execution_count": 4,
     "metadata": {},
     "output_type": "execute_result"
    }
   ],
   "source": [
    "#head of the data\n",
    "df.head(200)"
   ]
  },
  {
   "cell_type": "code",
   "execution_count": 5,
   "id": "56104aa2",
   "metadata": {
    "execution": {
     "iopub.execute_input": "2024-02-24T14:00:32.378706Z",
     "iopub.status.busy": "2024-02-24T14:00:32.378364Z",
     "iopub.status.idle": "2024-02-24T14:00:32.401071Z",
     "shell.execute_reply": "2024-02-24T14:00:32.400218Z"
    },
    "papermill": {
     "duration": 0.033956,
     "end_time": "2024-02-24T14:00:32.403083",
     "exception": false,
     "start_time": "2024-02-24T14:00:32.369127",
     "status": "completed"
    },
    "tags": []
   },
   "outputs": [
    {
     "data": {
      "text/html": [
       "<div>\n",
       "<style scoped>\n",
       "    .dataframe tbody tr th:only-of-type {\n",
       "        vertical-align: middle;\n",
       "    }\n",
       "\n",
       "    .dataframe tbody tr th {\n",
       "        vertical-align: top;\n",
       "    }\n",
       "\n",
       "    .dataframe thead th {\n",
       "        text-align: right;\n",
       "    }\n",
       "</style>\n",
       "<table border=\"1\" class=\"dataframe\">\n",
       "  <thead>\n",
       "    <tr style=\"text-align: right;\">\n",
       "      <th></th>\n",
       "      <th>step</th>\n",
       "      <th>type</th>\n",
       "      <th>amount</th>\n",
       "      <th>nameOrig</th>\n",
       "      <th>oldbalanceOrg</th>\n",
       "      <th>newbalanceOrig</th>\n",
       "      <th>nameDest</th>\n",
       "      <th>oldbalanceDest</th>\n",
       "      <th>newbalanceDest</th>\n",
       "      <th>isFraud</th>\n",
       "      <th>isFlaggedFraud</th>\n",
       "    </tr>\n",
       "  </thead>\n",
       "  <tbody>\n",
       "    <tr>\n",
       "      <th>6362420</th>\n",
       "      <td>727</td>\n",
       "      <td>TRANSFER</td>\n",
       "      <td>124582.58</td>\n",
       "      <td>C651444933</td>\n",
       "      <td>124582.58</td>\n",
       "      <td>0.0</td>\n",
       "      <td>C1161818914</td>\n",
       "      <td>0.00</td>\n",
       "      <td>0.00</td>\n",
       "      <td>1</td>\n",
       "      <td>0</td>\n",
       "    </tr>\n",
       "    <tr>\n",
       "      <th>6362421</th>\n",
       "      <td>727</td>\n",
       "      <td>CASH_OUT</td>\n",
       "      <td>124582.58</td>\n",
       "      <td>C1098290230</td>\n",
       "      <td>124582.58</td>\n",
       "      <td>0.0</td>\n",
       "      <td>C1739564153</td>\n",
       "      <td>320485.06</td>\n",
       "      <td>445067.64</td>\n",
       "      <td>1</td>\n",
       "      <td>0</td>\n",
       "    </tr>\n",
       "    <tr>\n",
       "      <th>6362422</th>\n",
       "      <td>727</td>\n",
       "      <td>TRANSFER</td>\n",
       "      <td>263401.81</td>\n",
       "      <td>C806437930</td>\n",
       "      <td>263401.81</td>\n",
       "      <td>0.0</td>\n",
       "      <td>C1469754483</td>\n",
       "      <td>0.00</td>\n",
       "      <td>0.00</td>\n",
       "      <td>1</td>\n",
       "      <td>0</td>\n",
       "    </tr>\n",
       "    <tr>\n",
       "      <th>6362423</th>\n",
       "      <td>727</td>\n",
       "      <td>CASH_OUT</td>\n",
       "      <td>263401.81</td>\n",
       "      <td>C850961884</td>\n",
       "      <td>263401.81</td>\n",
       "      <td>0.0</td>\n",
       "      <td>C1203132980</td>\n",
       "      <td>251586.80</td>\n",
       "      <td>514988.60</td>\n",
       "      <td>1</td>\n",
       "      <td>0</td>\n",
       "    </tr>\n",
       "    <tr>\n",
       "      <th>6362424</th>\n",
       "      <td>727</td>\n",
       "      <td>TRANSFER</td>\n",
       "      <td>69039.64</td>\n",
       "      <td>C922622756</td>\n",
       "      <td>69039.64</td>\n",
       "      <td>0.0</td>\n",
       "      <td>C417851521</td>\n",
       "      <td>0.00</td>\n",
       "      <td>0.00</td>\n",
       "      <td>1</td>\n",
       "      <td>0</td>\n",
       "    </tr>\n",
       "    <tr>\n",
       "      <th>...</th>\n",
       "      <td>...</td>\n",
       "      <td>...</td>\n",
       "      <td>...</td>\n",
       "      <td>...</td>\n",
       "      <td>...</td>\n",
       "      <td>...</td>\n",
       "      <td>...</td>\n",
       "      <td>...</td>\n",
       "      <td>...</td>\n",
       "      <td>...</td>\n",
       "      <td>...</td>\n",
       "    </tr>\n",
       "    <tr>\n",
       "      <th>6362615</th>\n",
       "      <td>743</td>\n",
       "      <td>CASH_OUT</td>\n",
       "      <td>339682.13</td>\n",
       "      <td>C786484425</td>\n",
       "      <td>339682.13</td>\n",
       "      <td>0.0</td>\n",
       "      <td>C776919290</td>\n",
       "      <td>0.00</td>\n",
       "      <td>339682.13</td>\n",
       "      <td>1</td>\n",
       "      <td>0</td>\n",
       "    </tr>\n",
       "    <tr>\n",
       "      <th>6362616</th>\n",
       "      <td>743</td>\n",
       "      <td>TRANSFER</td>\n",
       "      <td>6311409.28</td>\n",
       "      <td>C1529008245</td>\n",
       "      <td>6311409.28</td>\n",
       "      <td>0.0</td>\n",
       "      <td>C1881841831</td>\n",
       "      <td>0.00</td>\n",
       "      <td>0.00</td>\n",
       "      <td>1</td>\n",
       "      <td>0</td>\n",
       "    </tr>\n",
       "    <tr>\n",
       "      <th>6362617</th>\n",
       "      <td>743</td>\n",
       "      <td>CASH_OUT</td>\n",
       "      <td>6311409.28</td>\n",
       "      <td>C1162922333</td>\n",
       "      <td>6311409.28</td>\n",
       "      <td>0.0</td>\n",
       "      <td>C1365125890</td>\n",
       "      <td>68488.84</td>\n",
       "      <td>6379898.11</td>\n",
       "      <td>1</td>\n",
       "      <td>0</td>\n",
       "    </tr>\n",
       "    <tr>\n",
       "      <th>6362618</th>\n",
       "      <td>743</td>\n",
       "      <td>TRANSFER</td>\n",
       "      <td>850002.52</td>\n",
       "      <td>C1685995037</td>\n",
       "      <td>850002.52</td>\n",
       "      <td>0.0</td>\n",
       "      <td>C2080388513</td>\n",
       "      <td>0.00</td>\n",
       "      <td>0.00</td>\n",
       "      <td>1</td>\n",
       "      <td>0</td>\n",
       "    </tr>\n",
       "    <tr>\n",
       "      <th>6362619</th>\n",
       "      <td>743</td>\n",
       "      <td>CASH_OUT</td>\n",
       "      <td>850002.52</td>\n",
       "      <td>C1280323807</td>\n",
       "      <td>850002.52</td>\n",
       "      <td>0.0</td>\n",
       "      <td>C873221189</td>\n",
       "      <td>6510099.11</td>\n",
       "      <td>7360101.63</td>\n",
       "      <td>1</td>\n",
       "      <td>0</td>\n",
       "    </tr>\n",
       "  </tbody>\n",
       "</table>\n",
       "<p>200 rows × 11 columns</p>\n",
       "</div>"
      ],
      "text/plain": [
       "         step      type      amount     nameOrig  oldbalanceOrg  \\\n",
       "6362420   727  TRANSFER   124582.58   C651444933      124582.58   \n",
       "6362421   727  CASH_OUT   124582.58  C1098290230      124582.58   \n",
       "6362422   727  TRANSFER   263401.81   C806437930      263401.81   \n",
       "6362423   727  CASH_OUT   263401.81   C850961884      263401.81   \n",
       "6362424   727  TRANSFER    69039.64   C922622756       69039.64   \n",
       "...       ...       ...         ...          ...            ...   \n",
       "6362615   743  CASH_OUT   339682.13   C786484425      339682.13   \n",
       "6362616   743  TRANSFER  6311409.28  C1529008245     6311409.28   \n",
       "6362617   743  CASH_OUT  6311409.28  C1162922333     6311409.28   \n",
       "6362618   743  TRANSFER   850002.52  C1685995037      850002.52   \n",
       "6362619   743  CASH_OUT   850002.52  C1280323807      850002.52   \n",
       "\n",
       "         newbalanceOrig     nameDest  oldbalanceDest  newbalanceDest  isFraud  \\\n",
       "6362420             0.0  C1161818914            0.00            0.00        1   \n",
       "6362421             0.0  C1739564153       320485.06       445067.64        1   \n",
       "6362422             0.0  C1469754483            0.00            0.00        1   \n",
       "6362423             0.0  C1203132980       251586.80       514988.60        1   \n",
       "6362424             0.0   C417851521            0.00            0.00        1   \n",
       "...                 ...          ...             ...             ...      ...   \n",
       "6362615             0.0   C776919290            0.00       339682.13        1   \n",
       "6362616             0.0  C1881841831            0.00            0.00        1   \n",
       "6362617             0.0  C1365125890        68488.84      6379898.11        1   \n",
       "6362618             0.0  C2080388513            0.00            0.00        1   \n",
       "6362619             0.0   C873221189      6510099.11      7360101.63        1   \n",
       "\n",
       "         isFlaggedFraud  \n",
       "6362420               0  \n",
       "6362421               0  \n",
       "6362422               0  \n",
       "6362423               0  \n",
       "6362424               0  \n",
       "...                 ...  \n",
       "6362615               0  \n",
       "6362616               0  \n",
       "6362617               0  \n",
       "6362618               0  \n",
       "6362619               0  \n",
       "\n",
       "[200 rows x 11 columns]"
      ]
     },
     "execution_count": 5,
     "metadata": {},
     "output_type": "execute_result"
    }
   ],
   "source": [
    "#tail of the data\n",
    "df.tail(200)"
   ]
  },
  {
   "cell_type": "code",
   "execution_count": 6,
   "id": "ca9b1ecd",
   "metadata": {
    "execution": {
     "iopub.execute_input": "2024-02-24T14:00:32.421549Z",
     "iopub.status.busy": "2024-02-24T14:00:32.421292Z",
     "iopub.status.idle": "2024-02-24T14:00:34.250370Z",
     "shell.execute_reply": "2024-02-24T14:00:34.249402Z"
    },
    "papermill": {
     "duration": 1.840845,
     "end_time": "2024-02-24T14:00:34.252438",
     "exception": false,
     "start_time": "2024-02-24T14:00:32.411593",
     "status": "completed"
    },
    "tags": []
   },
   "outputs": [
    {
     "data": {
      "text/plain": [
       "False"
      ]
     },
     "execution_count": 6,
     "metadata": {},
     "output_type": "execute_result"
    }
   ],
   "source": [
    "#checking for null values if any\n",
    "df.isnull().values.any()"
   ]
  },
  {
   "cell_type": "code",
   "execution_count": 7,
   "id": "ba1e1c3e",
   "metadata": {
    "execution": {
     "iopub.execute_input": "2024-02-24T14:00:34.272029Z",
     "iopub.status.busy": "2024-02-24T14:00:34.271733Z",
     "iopub.status.idle": "2024-02-24T14:00:34.296329Z",
     "shell.execute_reply": "2024-02-24T14:00:34.295297Z"
    },
    "papermill": {
     "duration": 0.036966,
     "end_time": "2024-02-24T14:00:34.298310",
     "exception": false,
     "start_time": "2024-02-24T14:00:34.261344",
     "status": "completed"
    },
    "tags": []
   },
   "outputs": [
    {
     "name": "stdout",
     "output_type": "stream",
     "text": [
      "<class 'pandas.core.frame.DataFrame'>\n",
      "RangeIndex: 6362620 entries, 0 to 6362619\n",
      "Data columns (total 11 columns):\n",
      " #   Column          Dtype  \n",
      "---  ------          -----  \n",
      " 0   step            int64  \n",
      " 1   type            object \n",
      " 2   amount          float64\n",
      " 3   nameOrig        object \n",
      " 4   oldbalanceOrg   float64\n",
      " 5   newbalanceOrig  float64\n",
      " 6   nameDest        object \n",
      " 7   oldbalanceDest  float64\n",
      " 8   newbalanceDest  float64\n",
      " 9   isFraud         int64  \n",
      " 10  isFlaggedFraud  int64  \n",
      "dtypes: float64(5), int64(3), object(3)\n",
      "memory usage: 534.0+ MB\n"
     ]
    }
   ],
   "source": [
    "#collect more information about the data\n",
    "df.info()"
   ]
  },
  {
   "cell_type": "code",
   "execution_count": 8,
   "id": "739b4cd1",
   "metadata": {
    "execution": {
     "iopub.execute_input": "2024-02-24T14:00:34.316746Z",
     "iopub.status.busy": "2024-02-24T14:00:34.316174Z",
     "iopub.status.idle": "2024-02-24T14:00:35.001324Z",
     "shell.execute_reply": "2024-02-24T14:00:35.000142Z"
    },
    "papermill": {
     "duration": 0.696696,
     "end_time": "2024-02-24T14:00:35.003553",
     "exception": false,
     "start_time": "2024-02-24T14:00:34.306857",
     "status": "completed"
    },
    "tags": []
   },
   "outputs": [
    {
     "name": "stdout",
     "output_type": "stream",
     "text": [
      "Number of legit transactions:  6354407\n",
      "Number of fraud transactions:  8213\n",
      "99.87% are legit transactions in this dataset\n",
      "0.13% are fraud transactions in this dataset\n"
     ]
    }
   ],
   "source": [
    "#legit transactions\n",
    "legit = len(df[df.isFraud==0])\n",
    "#fraud transactions\n",
    "fraud = len(df[df.isFraud==1])\n",
    "\n",
    "#legit transactions percentage\n",
    "legit_perc = round((legit/(legit+fraud))*100,2)\n",
    "\n",
    "#fraud transactions percentage\n",
    "fraud_perc = round((fraud/(legit+fraud))*100,2)\n",
    "\n",
    "print(\"Number of legit transactions: \",legit)\n",
    "print(\"Number of fraud transactions: \",fraud)\n",
    "print(f\"{legit_perc}% are legit transactions in this dataset\")\n",
    "print(f\"{fraud_perc}% are fraud transactions in this dataset\")\n",
    "\n",
    "\n"
   ]
  },
  {
   "cell_type": "markdown",
   "id": "635519fc",
   "metadata": {
    "papermill": {
     "duration": 0.009457,
     "end_time": "2024-02-24T14:00:35.022774",
     "exception": false,
     "start_time": "2024-02-24T14:00:35.013317",
     "status": "completed"
    },
    "tags": []
   },
   "source": [
    "Since we are dealing with the higly imbalanced data where legit transactions cover around 99.87% while fraud transactions are just 0.13% of the data, the best way to reach the final decision is to work with decision trees and random forests. "
   ]
  },
  {
   "cell_type": "code",
   "execution_count": 9,
   "id": "4e563022",
   "metadata": {
    "execution": {
     "iopub.execute_input": "2024-02-24T14:00:35.042945Z",
     "iopub.status.busy": "2024-02-24T14:00:35.042280Z",
     "iopub.status.idle": "2024-02-24T14:00:38.270537Z",
     "shell.execute_reply": "2024-02-24T14:00:38.269566Z"
    },
    "papermill": {
     "duration": 3.240573,
     "end_time": "2024-02-24T14:00:38.272630",
     "exception": false,
     "start_time": "2024-02-24T14:00:35.032057",
     "status": "completed"
    },
    "tags": []
   },
   "outputs": [
    {
     "data": {
      "text/html": [
       "<div>\n",
       "<style scoped>\n",
       "    .dataframe tbody tr th:only-of-type {\n",
       "        vertical-align: middle;\n",
       "    }\n",
       "\n",
       "    .dataframe tbody tr th {\n",
       "        vertical-align: top;\n",
       "    }\n",
       "\n",
       "    .dataframe thead th {\n",
       "        text-align: right;\n",
       "    }\n",
       "</style>\n",
       "<table border=\"1\" class=\"dataframe\">\n",
       "  <thead>\n",
       "    <tr style=\"text-align: right;\">\n",
       "      <th></th>\n",
       "      <th>step</th>\n",
       "      <th>type</th>\n",
       "      <th>amount</th>\n",
       "      <th>nameOrig</th>\n",
       "      <th>oldbalanceOrg</th>\n",
       "      <th>newbalanceOrig</th>\n",
       "      <th>nameDest</th>\n",
       "      <th>oldbalanceDest</th>\n",
       "      <th>newbalanceDest</th>\n",
       "      <th>isFraud</th>\n",
       "      <th>isFlaggedFraud</th>\n",
       "    </tr>\n",
       "  </thead>\n",
       "  <tbody>\n",
       "    <tr>\n",
       "      <th>0</th>\n",
       "      <td>1</td>\n",
       "      <td>PAYMENT</td>\n",
       "      <td>9839.64</td>\n",
       "      <td>C1231006815</td>\n",
       "      <td>170136.0</td>\n",
       "      <td>160296.36</td>\n",
       "      <td>M1979787155</td>\n",
       "      <td>0.0</td>\n",
       "      <td>0.0</td>\n",
       "      <td>0</td>\n",
       "      <td>0</td>\n",
       "    </tr>\n",
       "    <tr>\n",
       "      <th>1</th>\n",
       "      <td>1</td>\n",
       "      <td>PAYMENT</td>\n",
       "      <td>1864.28</td>\n",
       "      <td>C1666544295</td>\n",
       "      <td>21249.0</td>\n",
       "      <td>19384.72</td>\n",
       "      <td>M2044282225</td>\n",
       "      <td>0.0</td>\n",
       "      <td>0.0</td>\n",
       "      <td>0</td>\n",
       "      <td>0</td>\n",
       "    </tr>\n",
       "    <tr>\n",
       "      <th>4</th>\n",
       "      <td>1</td>\n",
       "      <td>PAYMENT</td>\n",
       "      <td>11668.14</td>\n",
       "      <td>C2048537720</td>\n",
       "      <td>41554.0</td>\n",
       "      <td>29885.86</td>\n",
       "      <td>M1230701703</td>\n",
       "      <td>0.0</td>\n",
       "      <td>0.0</td>\n",
       "      <td>0</td>\n",
       "      <td>0</td>\n",
       "    </tr>\n",
       "    <tr>\n",
       "      <th>5</th>\n",
       "      <td>1</td>\n",
       "      <td>PAYMENT</td>\n",
       "      <td>7817.71</td>\n",
       "      <td>C90045638</td>\n",
       "      <td>53860.0</td>\n",
       "      <td>46042.29</td>\n",
       "      <td>M573487274</td>\n",
       "      <td>0.0</td>\n",
       "      <td>0.0</td>\n",
       "      <td>0</td>\n",
       "      <td>0</td>\n",
       "    </tr>\n",
       "    <tr>\n",
       "      <th>6</th>\n",
       "      <td>1</td>\n",
       "      <td>PAYMENT</td>\n",
       "      <td>7107.77</td>\n",
       "      <td>C154988899</td>\n",
       "      <td>183195.0</td>\n",
       "      <td>176087.23</td>\n",
       "      <td>M408069119</td>\n",
       "      <td>0.0</td>\n",
       "      <td>0.0</td>\n",
       "      <td>0</td>\n",
       "      <td>0</td>\n",
       "    </tr>\n",
       "  </tbody>\n",
       "</table>\n",
       "</div>"
      ],
      "text/plain": [
       "   step     type    amount     nameOrig  oldbalanceOrg  newbalanceOrig  \\\n",
       "0     1  PAYMENT   9839.64  C1231006815       170136.0       160296.36   \n",
       "1     1  PAYMENT   1864.28  C1666544295        21249.0        19384.72   \n",
       "4     1  PAYMENT  11668.14  C2048537720        41554.0        29885.86   \n",
       "5     1  PAYMENT   7817.71    C90045638        53860.0        46042.29   \n",
       "6     1  PAYMENT   7107.77   C154988899       183195.0       176087.23   \n",
       "\n",
       "      nameDest  oldbalanceDest  newbalanceDest  isFraud  isFlaggedFraud  \n",
       "0  M1979787155             0.0             0.0        0               0  \n",
       "1  M2044282225             0.0             0.0        0               0  \n",
       "4  M1230701703             0.0             0.0        0               0  \n",
       "5   M573487274             0.0             0.0        0               0  \n",
       "6   M408069119             0.0             0.0        0               0  "
      ]
     },
     "execution_count": 9,
     "metadata": {},
     "output_type": "execute_result"
    }
   ],
   "source": [
    "#Merchants\n",
    "Y = df[df[\"nameDest\"].str.contains('M')]\n",
    "Y.head()"
   ]
  },
  {
   "cell_type": "code",
   "execution_count": 10,
   "id": "bcc403c5",
   "metadata": {
    "execution": {
     "iopub.execute_input": "2024-02-24T14:00:38.292524Z",
     "iopub.status.busy": "2024-02-24T14:00:38.292248Z",
     "iopub.status.idle": "2024-02-24T14:00:39.600589Z",
     "shell.execute_reply": "2024-02-24T14:00:39.599595Z"
    },
    "papermill": {
     "duration": 1.321259,
     "end_time": "2024-02-24T14:00:39.603024",
     "exception": false,
     "start_time": "2024-02-24T14:00:38.281765",
     "status": "completed"
    },
    "tags": []
   },
   "outputs": [],
   "source": [
    "import seaborn as sns\n",
    "import matplotlib.pyplot as plt"
   ]
  },
  {
   "cell_type": "code",
   "execution_count": 11,
   "id": "862c3e7a",
   "metadata": {
    "execution": {
     "iopub.execute_input": "2024-02-24T14:00:39.624041Z",
     "iopub.status.busy": "2024-02-24T14:00:39.623281Z",
     "iopub.status.idle": "2024-02-24T14:00:41.572960Z",
     "shell.execute_reply": "2024-02-24T14:00:41.572049Z"
    },
    "papermill": {
     "duration": 1.962442,
     "end_time": "2024-02-24T14:00:41.575058",
     "exception": false,
     "start_time": "2024-02-24T14:00:39.612616",
     "status": "completed"
    },
    "tags": []
   },
   "outputs": [
    {
     "data": {
      "text/plain": [
       "<Axes: >"
      ]
     },
     "execution_count": 11,
     "metadata": {},
     "output_type": "execute_result"
    },
    {
     "data": {
      "image/png": "[encoded data removed]",
      "text/plain": [
       "<Figure size 1000x500 with 2 Axes>"
      ]
     },
     "metadata": {},
     "output_type": "display_data"
    }
   ],
   "source": [
    "\"\"\"since *type* , *nameOrig* and *nameDest* are objective in nature\n",
    "we will drop them and create a copy of original data\n",
    "for vizualizing the correlation heatmap\"\"\"\n",
    "\n",
    "df_corr = df.drop(columns = [\"type\",\"nameOrig\",\"nameDest\"])\n",
    "corr = df_corr.corr()\n",
    "plt.figure(figsize=(10,5))\n",
    "sns.heatmap(corr,annot=True)"
   ]
  },
  {
   "cell_type": "code",
   "execution_count": 12,
   "id": "3532f071",
   "metadata": {
    "execution": {
     "iopub.execute_input": "2024-02-24T14:00:41.597412Z",
     "iopub.status.busy": "2024-02-24T14:00:41.597111Z",
     "iopub.status.idle": "2024-02-24T14:00:41.929216Z",
     "shell.execute_reply": "2024-02-24T14:00:41.928298Z"
    },
    "papermill": {
     "duration": 0.345568,
     "end_time": "2024-02-24T14:00:41.931256",
     "exception": false,
     "start_time": "2024-02-24T14:00:41.585688",
     "status": "completed"
    },
    "tags": []
   },
   "outputs": [
    {
     "data": {
      "image/png": "[encoded data removed]",
      "text/plain": [
       "<Figure size 500x800 with 1 Axes>"
      ]
     },
     "metadata": {},
     "output_type": "display_data"
    }
   ],
   "source": [
    "plt.figure(figsize = (5,8))\n",
    "labels = [\"Legit\",\"Fraud\"]\n",
    "count_classes = df.value_counts(df[\"isFraud\"],sort=True)\n",
    "count_classes.plot(kind = \"bar\", rot = 0)\n",
    "plt.title(\"Bar plot for trasanctions\")\n",
    "plt.ylabel(\"count\")\n",
    "plt.xticks(range(2), labels)\n",
    "plt.show()"
   ]
  },
  {
   "cell_type": "code",
   "execution_count": 13,
   "id": "1b62428c",
   "metadata": {
    "execution": {
     "iopub.execute_input": "2024-02-24T14:00:41.953730Z",
     "iopub.status.busy": "2024-02-24T14:00:41.953423Z",
     "iopub.status.idle": "2024-02-24T14:00:42.358917Z",
     "shell.execute_reply": "2024-02-24T14:00:42.357861Z"
    },
    "papermill": {
     "duration": 0.419004,
     "end_time": "2024-02-24T14:00:42.361119",
     "exception": false,
     "start_time": "2024-02-24T14:00:41.942115",
     "status": "completed"
    },
    "tags": []
   },
   "outputs": [
    {
     "data": {
      "text/html": [
       "<div>\n",
       "<style scoped>\n",
       "    .dataframe tbody tr th:only-of-type {\n",
       "        vertical-align: middle;\n",
       "    }\n",
       "\n",
       "    .dataframe tbody tr th {\n",
       "        vertical-align: top;\n",
       "    }\n",
       "\n",
       "    .dataframe thead th {\n",
       "        text-align: right;\n",
       "    }\n",
       "</style>\n",
       "<table border=\"1\" class=\"dataframe\">\n",
       "  <thead>\n",
       "    <tr style=\"text-align: right;\">\n",
       "      <th></th>\n",
       "      <th>step</th>\n",
       "      <th>type</th>\n",
       "      <th>amount</th>\n",
       "      <th>nameOrig</th>\n",
       "      <th>oldbalanceOrg</th>\n",
       "      <th>newbalanceOrig</th>\n",
       "      <th>nameDest</th>\n",
       "      <th>oldbalanceDest</th>\n",
       "      <th>newbalanceDest</th>\n",
       "      <th>isFraud</th>\n",
       "      <th>isFlaggedFraud</th>\n",
       "    </tr>\n",
       "  </thead>\n",
       "  <tbody>\n",
       "    <tr>\n",
       "      <th>0</th>\n",
       "      <td>1</td>\n",
       "      <td>PAYMENT</td>\n",
       "      <td>9839.64</td>\n",
       "      <td>C1231006815</td>\n",
       "      <td>170136.0</td>\n",
       "      <td>160296.36</td>\n",
       "      <td>M1979787155</td>\n",
       "      <td>0.0</td>\n",
       "      <td>0.0</td>\n",
       "      <td>0</td>\n",
       "      <td>0</td>\n",
       "    </tr>\n",
       "    <tr>\n",
       "      <th>1</th>\n",
       "      <td>1</td>\n",
       "      <td>PAYMENT</td>\n",
       "      <td>1864.28</td>\n",
       "      <td>C1666544295</td>\n",
       "      <td>21249.0</td>\n",
       "      <td>19384.72</td>\n",
       "      <td>M2044282225</td>\n",
       "      <td>0.0</td>\n",
       "      <td>0.0</td>\n",
       "      <td>0</td>\n",
       "      <td>0</td>\n",
       "    </tr>\n",
       "    <tr>\n",
       "      <th>2</th>\n",
       "      <td>1</td>\n",
       "      <td>TRANSFER</td>\n",
       "      <td>181.00</td>\n",
       "      <td>C1305486145</td>\n",
       "      <td>181.0</td>\n",
       "      <td>0.00</td>\n",
       "      <td>C553264065</td>\n",
       "      <td>0.0</td>\n",
       "      <td>0.0</td>\n",
       "      <td>1</td>\n",
       "      <td>0</td>\n",
       "    </tr>\n",
       "    <tr>\n",
       "      <th>3</th>\n",
       "      <td>1</td>\n",
       "      <td>CASH_OUT</td>\n",
       "      <td>181.00</td>\n",
       "      <td>C840083671</td>\n",
       "      <td>181.0</td>\n",
       "      <td>0.00</td>\n",
       "      <td>C38997010</td>\n",
       "      <td>21182.0</td>\n",
       "      <td>0.0</td>\n",
       "      <td>1</td>\n",
       "      <td>0</td>\n",
       "    </tr>\n",
       "    <tr>\n",
       "      <th>4</th>\n",
       "      <td>1</td>\n",
       "      <td>PAYMENT</td>\n",
       "      <td>11668.14</td>\n",
       "      <td>C2048537720</td>\n",
       "      <td>41554.0</td>\n",
       "      <td>29885.86</td>\n",
       "      <td>M1230701703</td>\n",
       "      <td>0.0</td>\n",
       "      <td>0.0</td>\n",
       "      <td>0</td>\n",
       "      <td>0</td>\n",
       "    </tr>\n",
       "  </tbody>\n",
       "</table>\n",
       "</div>"
      ],
      "text/plain": [
       "   step      type    amount     nameOrig  oldbalanceOrg  newbalanceOrig  \\\n",
       "0     1   PAYMENT   9839.64  C1231006815       170136.0       160296.36   \n",
       "1     1   PAYMENT   1864.28  C1666544295        21249.0        19384.72   \n",
       "2     1  TRANSFER    181.00  C1305486145          181.0            0.00   \n",
       "3     1  CASH_OUT    181.00   C840083671          181.0            0.00   \n",
       "4     1   PAYMENT  11668.14  C2048537720        41554.0        29885.86   \n",
       "\n",
       "      nameDest  oldbalanceDest  newbalanceDest  isFraud  isFlaggedFraud  \n",
       "0  M1979787155             0.0             0.0        0               0  \n",
       "1  M2044282225             0.0             0.0        0               0  \n",
       "2   C553264065             0.0             0.0        1               0  \n",
       "3    C38997010         21182.0             0.0        1               0  \n",
       "4  M1230701703             0.0             0.0        0               0  "
      ]
     },
     "execution_count": 13,
     "metadata": {},
     "output_type": "execute_result"
    }
   ],
   "source": [
    "#creating a copy for training and testing the data\n",
    "new_df = df.copy()\n",
    "new_df.head()"
   ]
  },
  {
   "cell_type": "code",
   "execution_count": 14,
   "id": "e4194a65",
   "metadata": {
    "execution": {
     "iopub.execute_input": "2024-02-24T14:00:42.385276Z",
     "iopub.status.busy": "2024-02-24T14:00:42.384987Z",
     "iopub.status.idle": "2024-02-24T14:00:42.738029Z",
     "shell.execute_reply": "2024-02-24T14:00:42.736973Z"
    },
    "papermill": {
     "duration": 0.367218,
     "end_time": "2024-02-24T14:00:42.740153",
     "exception": false,
     "start_time": "2024-02-24T14:00:42.372935",
     "status": "completed"
    },
    "tags": []
   },
   "outputs": [
    {
     "name": "stdout",
     "output_type": "stream",
     "text": [
      "Index(['type', 'nameOrig', 'nameDest'], dtype='object')\n"
     ]
    }
   ],
   "source": [
    "#checking how many are of object type\n",
    "list_obj = new_df.select_dtypes(include='object').columns\n",
    "print(list_obj)"
   ]
  },
  {
   "cell_type": "code",
   "execution_count": 15,
   "id": "5276b693",
   "metadata": {
    "execution": {
     "iopub.execute_input": "2024-02-24T14:00:42.763191Z",
     "iopub.status.busy": "2024-02-24T14:00:42.762888Z",
     "iopub.status.idle": "2024-02-24T14:01:32.615610Z",
     "shell.execute_reply": "2024-02-24T14:01:32.614461Z"
    },
    "papermill": {
     "duration": 49.877405,
     "end_time": "2024-02-24T14:01:32.628629",
     "exception": false,
     "start_time": "2024-02-24T14:00:42.751224",
     "status": "completed"
    },
    "tags": []
   },
   "outputs": [
    {
     "name": "stdout",
     "output_type": "stream",
     "text": [
      "<class 'pandas.core.frame.DataFrame'>\n",
      "RangeIndex: 6362620 entries, 0 to 6362619\n",
      "Data columns (total 11 columns):\n",
      " #   Column          Dtype  \n",
      "---  ------          -----  \n",
      " 0   step            int64  \n",
      " 1   type            int64  \n",
      " 2   amount          float64\n",
      " 3   nameOrig        int64  \n",
      " 4   oldbalanceOrg   float64\n",
      " 5   newbalanceOrig  float64\n",
      " 6   nameDest        int64  \n",
      " 7   oldbalanceDest  float64\n",
      " 8   newbalanceDest  float64\n",
      " 9   isFraud         int64  \n",
      " 10  isFlaggedFraud  int64  \n",
      "dtypes: float64(5), int64(6)\n",
      "memory usage: 534.0 MB\n",
      "None\n"
     ]
    }
   ],
   "source": [
    "from sklearn.preprocessing import LabelEncoder\n",
    "le = LabelEncoder()\n",
    "\n",
    "for feat in list_obj:\n",
    "    new_df[feat] = le.fit_transform(new_df[feat].astype(str))\n",
    "    \n",
    "print(new_df.info())"
   ]
  },
  {
   "cell_type": "code",
   "execution_count": 16,
   "id": "f2cf20e6",
   "metadata": {
    "execution": {
     "iopub.execute_input": "2024-02-24T14:01:32.651625Z",
     "iopub.status.busy": "2024-02-24T14:01:32.651328Z",
     "iopub.status.idle": "2024-02-24T14:01:32.667392Z",
     "shell.execute_reply": "2024-02-24T14:01:32.666422Z"
    },
    "papermill": {
     "duration": 0.030448,
     "end_time": "2024-02-24T14:01:32.669906",
     "exception": false,
     "start_time": "2024-02-24T14:01:32.639458",
     "status": "completed"
    },
    "tags": []
   },
   "outputs": [
    {
     "data": {
      "text/html": [
       "<div>\n",
       "<style scoped>\n",
       "    .dataframe tbody tr th:only-of-type {\n",
       "        vertical-align: middle;\n",
       "    }\n",
       "\n",
       "    .dataframe tbody tr th {\n",
       "        vertical-align: top;\n",
       "    }\n",
       "\n",
       "    .dataframe thead th {\n",
       "        text-align: right;\n",
       "    }\n",
       "</style>\n",
       "<table border=\"1\" class=\"dataframe\">\n",
       "  <thead>\n",
       "    <tr style=\"text-align: right;\">\n",
       "      <th></th>\n",
       "      <th>step</th>\n",
       "      <th>type</th>\n",
       "      <th>amount</th>\n",
       "      <th>nameOrig</th>\n",
       "      <th>oldbalanceOrg</th>\n",
       "      <th>newbalanceOrig</th>\n",
       "      <th>nameDest</th>\n",
       "      <th>oldbalanceDest</th>\n",
       "      <th>newbalanceDest</th>\n",
       "      <th>isFraud</th>\n",
       "      <th>isFlaggedFraud</th>\n",
       "    </tr>\n",
       "  </thead>\n",
       "  <tbody>\n",
       "    <tr>\n",
       "      <th>0</th>\n",
       "      <td>1</td>\n",
       "      <td>3</td>\n",
       "      <td>9839.64</td>\n",
       "      <td>757869</td>\n",
       "      <td>170136.0</td>\n",
       "      <td>160296.36</td>\n",
       "      <td>1662094</td>\n",
       "      <td>0.0</td>\n",
       "      <td>0.0</td>\n",
       "      <td>0</td>\n",
       "      <td>0</td>\n",
       "    </tr>\n",
       "    <tr>\n",
       "      <th>1</th>\n",
       "      <td>1</td>\n",
       "      <td>3</td>\n",
       "      <td>1864.28</td>\n",
       "      <td>2188998</td>\n",
       "      <td>21249.0</td>\n",
       "      <td>19384.72</td>\n",
       "      <td>1733924</td>\n",
       "      <td>0.0</td>\n",
       "      <td>0.0</td>\n",
       "      <td>0</td>\n",
       "      <td>0</td>\n",
       "    </tr>\n",
       "    <tr>\n",
       "      <th>2</th>\n",
       "      <td>1</td>\n",
       "      <td>4</td>\n",
       "      <td>181.00</td>\n",
       "      <td>1002156</td>\n",
       "      <td>181.0</td>\n",
       "      <td>0.00</td>\n",
       "      <td>439685</td>\n",
       "      <td>0.0</td>\n",
       "      <td>0.0</td>\n",
       "      <td>1</td>\n",
       "      <td>0</td>\n",
       "    </tr>\n",
       "    <tr>\n",
       "      <th>3</th>\n",
       "      <td>1</td>\n",
       "      <td>1</td>\n",
       "      <td>181.00</td>\n",
       "      <td>5828262</td>\n",
       "      <td>181.0</td>\n",
       "      <td>0.00</td>\n",
       "      <td>391696</td>\n",
       "      <td>21182.0</td>\n",
       "      <td>0.0</td>\n",
       "      <td>1</td>\n",
       "      <td>0</td>\n",
       "    </tr>\n",
       "    <tr>\n",
       "      <th>4</th>\n",
       "      <td>1</td>\n",
       "      <td>3</td>\n",
       "      <td>11668.14</td>\n",
       "      <td>3445981</td>\n",
       "      <td>41554.0</td>\n",
       "      <td>29885.86</td>\n",
       "      <td>828919</td>\n",
       "      <td>0.0</td>\n",
       "      <td>0.0</td>\n",
       "      <td>0</td>\n",
       "      <td>0</td>\n",
       "    </tr>\n",
       "  </tbody>\n",
       "</table>\n",
       "</div>"
      ],
      "text/plain": [
       "   step  type    amount  nameOrig  oldbalanceOrg  newbalanceOrig  nameDest  \\\n",
       "0     1     3   9839.64    757869       170136.0       160296.36   1662094   \n",
       "1     1     3   1864.28   2188998        21249.0        19384.72   1733924   \n",
       "2     1     4    181.00   1002156          181.0            0.00    439685   \n",
       "3     1     1    181.00   5828262          181.0            0.00    391696   \n",
       "4     1     3  11668.14   3445981        41554.0        29885.86    828919   \n",
       "\n",
       "   oldbalanceDest  newbalanceDest  isFraud  isFlaggedFraud  \n",
       "0             0.0             0.0        0               0  \n",
       "1             0.0             0.0        0               0  \n",
       "2             0.0             0.0        1               0  \n",
       "3         21182.0             0.0        1               0  \n",
       "4             0.0             0.0        0               0  "
      ]
     },
     "execution_count": 16,
     "metadata": {},
     "output_type": "execute_result"
    }
   ],
   "source": [
    "new_df.head()"
   ]
  },
  {
   "cell_type": "code",
   "execution_count": 17,
   "id": "add38496",
   "metadata": {
    "execution": {
     "iopub.execute_input": "2024-02-24T14:01:32.696057Z",
     "iopub.status.busy": "2024-02-24T14:01:32.695764Z",
     "iopub.status.idle": "2024-02-24T14:02:49.125462Z",
     "shell.execute_reply": "2024-02-24T14:02:49.124233Z"
    },
    "papermill": {
     "duration": 76.472335,
     "end_time": "2024-02-24T14:02:49.155283",
     "exception": false,
     "start_time": "2024-02-24T14:01:32.682948",
     "status": "completed"
    },
    "tags": []
   },
   "outputs": [
    {
     "data": {
      "text/html": [
       "<div>\n",
       "<style scoped>\n",
       "    .dataframe tbody tr th:only-of-type {\n",
       "        vertical-align: middle;\n",
       "    }\n",
       "\n",
       "    .dataframe tbody tr th {\n",
       "        vertical-align: top;\n",
       "    }\n",
       "\n",
       "    .dataframe thead th {\n",
       "        text-align: right;\n",
       "    }\n",
       "</style>\n",
       "<table border=\"1\" class=\"dataframe\">\n",
       "  <thead>\n",
       "    <tr style=\"text-align: right;\">\n",
       "      <th></th>\n",
       "      <th>variables</th>\n",
       "      <th>VIF</th>\n",
       "    </tr>\n",
       "  </thead>\n",
       "  <tbody>\n",
       "    <tr>\n",
       "      <th>0</th>\n",
       "      <td>step</td>\n",
       "      <td>2.791610</td>\n",
       "    </tr>\n",
       "    <tr>\n",
       "      <th>1</th>\n",
       "      <td>type</td>\n",
       "      <td>4.467405</td>\n",
       "    </tr>\n",
       "    <tr>\n",
       "      <th>2</th>\n",
       "      <td>amount</td>\n",
       "      <td>4.149312</td>\n",
       "    </tr>\n",
       "    <tr>\n",
       "      <th>3</th>\n",
       "      <td>nameOrig</td>\n",
       "      <td>2.764234</td>\n",
       "    </tr>\n",
       "    <tr>\n",
       "      <th>4</th>\n",
       "      <td>oldbalanceOrg</td>\n",
       "      <td>576.803777</td>\n",
       "    </tr>\n",
       "    <tr>\n",
       "      <th>5</th>\n",
       "      <td>newbalanceOrig</td>\n",
       "      <td>582.709128</td>\n",
       "    </tr>\n",
       "    <tr>\n",
       "      <th>6</th>\n",
       "      <td>nameDest</td>\n",
       "      <td>3.300975</td>\n",
       "    </tr>\n",
       "    <tr>\n",
       "      <th>7</th>\n",
       "      <td>oldbalanceDest</td>\n",
       "      <td>73.349937</td>\n",
       "    </tr>\n",
       "    <tr>\n",
       "      <th>8</th>\n",
       "      <td>newbalanceDest</td>\n",
       "      <td>85.005614</td>\n",
       "    </tr>\n",
       "    <tr>\n",
       "      <th>9</th>\n",
       "      <td>isFraud</td>\n",
       "      <td>1.195305</td>\n",
       "    </tr>\n",
       "    <tr>\n",
       "      <th>10</th>\n",
       "      <td>isFlaggedFraud</td>\n",
       "      <td>1.002587</td>\n",
       "    </tr>\n",
       "  </tbody>\n",
       "</table>\n",
       "</div>"
      ],
      "text/plain": [
       "         variables         VIF\n",
       "0             step    2.791610\n",
       "1             type    4.467405\n",
       "2           amount    4.149312\n",
       "3         nameOrig    2.764234\n",
       "4    oldbalanceOrg  576.803777\n",
       "5   newbalanceOrig  582.709128\n",
       "6         nameDest    3.300975\n",
       "7   oldbalanceDest   73.349937\n",
       "8   newbalanceDest   85.005614\n",
       "9          isFraud    1.195305\n",
       "10  isFlaggedFraud    1.002587"
      ]
     },
     "execution_count": 17,
     "metadata": {},
     "output_type": "execute_result"
    }
   ],
   "source": [
    "#checking for multicollinearity in data by using VIF (variance inflation factor)\n",
    "from statsmodels.stats.outliers_influence import variance_inflation_factor \n",
    "\n",
    "def cal_vif(new_df):\n",
    "    vif = pd.DataFrame()\n",
    "    vif[\"variables\"] = new_df.columns\n",
    "    vif[\"VIF\"] = [variance_inflation_factor(new_df.values,i) for i in range(new_df.shape[1])]\n",
    "    return(vif)\n",
    "\n",
    "cal_vif(new_df)\n",
    "\n"
   ]
  },
  {
   "cell_type": "code",
   "execution_count": 18,
   "id": "8866b59b",
   "metadata": {
    "execution": {
     "iopub.execute_input": "2024-02-24T14:02:49.210412Z",
     "iopub.status.busy": "2024-02-24T14:02:49.209826Z",
     "iopub.status.idle": "2024-02-24T14:08:05.885086Z",
     "shell.execute_reply": "2024-02-24T14:08:05.884011Z"
    },
    "papermill": {
     "duration": 316.736556,
     "end_time": "2024-02-24T14:08:05.918363",
     "exception": false,
     "start_time": "2024-02-24T14:02:49.181807",
     "status": "completed"
    },
    "tags": []
   },
   "outputs": [
    {
     "data": {
      "text/html": [
       "<div>\n",
       "<style scoped>\n",
       "    .dataframe tbody tr th:only-of-type {\n",
       "        vertical-align: middle;\n",
       "    }\n",
       "\n",
       "    .dataframe tbody tr th {\n",
       "        vertical-align: top;\n",
       "    }\n",
       "\n",
       "    .dataframe thead th {\n",
       "        text-align: right;\n",
       "    }\n",
       "</style>\n",
       "<table border=\"1\" class=\"dataframe\">\n",
       "  <thead>\n",
       "    <tr style=\"text-align: right;\">\n",
       "      <th></th>\n",
       "      <th>variables</th>\n",
       "      <th>VIF</th>\n",
       "    </tr>\n",
       "  </thead>\n",
       "  <tbody>\n",
       "    <tr>\n",
       "      <th>0</th>\n",
       "      <td>type</td>\n",
       "      <td>2.687803</td>\n",
       "    </tr>\n",
       "    <tr>\n",
       "      <th>1</th>\n",
       "      <td>amount</td>\n",
       "      <td>3.818902</td>\n",
       "    </tr>\n",
       "    <tr>\n",
       "      <th>2</th>\n",
       "      <td>isFraud</td>\n",
       "      <td>1.184479</td>\n",
       "    </tr>\n",
       "    <tr>\n",
       "      <th>3</th>\n",
       "      <td>isFlaggedFraud</td>\n",
       "      <td>1.002546</td>\n",
       "    </tr>\n",
       "    <tr>\n",
       "      <th>4</th>\n",
       "      <td>orig_amount</td>\n",
       "      <td>1.307910</td>\n",
       "    </tr>\n",
       "    <tr>\n",
       "      <th>5</th>\n",
       "      <td>dest_amount</td>\n",
       "      <td>3.754335</td>\n",
       "    </tr>\n",
       "    <tr>\n",
       "      <th>6</th>\n",
       "      <td>TransactionPath</td>\n",
       "      <td>2.677167</td>\n",
       "    </tr>\n",
       "  </tbody>\n",
       "</table>\n",
       "</div>"
      ],
      "text/plain": [
       "         variables       VIF\n",
       "0             type  2.687803\n",
       "1           amount  3.818902\n",
       "2          isFraud  1.184479\n",
       "3   isFlaggedFraud  1.002546\n",
       "4      orig_amount  1.307910\n",
       "5      dest_amount  3.754335\n",
       "6  TransactionPath  2.677167"
      ]
     },
     "execution_count": 18,
     "metadata": {},
     "output_type": "execute_result"
    }
   ],
   "source": [
    "\"\"\"NewbalanceOrig and oldbalanceOrg are highly correlated, similar goes with\n",
    "oldbalancedest and newbalanedest.\n",
    "Also looking over the information we can see that namedest and nameOrig are connected to each other\"\"\"\n",
    "\n",
    "#combining features with high collinearity and dropping individual ones\n",
    "\n",
    "new_df[\"orig_amount\"] = new_df.apply(lambda x: x[\"oldbalanceOrg\"]- x[\"newbalanceOrig\"], axis = 1)\n",
    "new_df[\"dest_amount\"] = new_df.apply(lambda x: x[\"oldbalanceDest\"]- x[\"newbalanceDest\"], axis = 1)\n",
    "new_df[\"TransactionPath\"] = new_df.apply(lambda x: x[\"nameDest\"]+ x[\"nameOrig\"], axis = 1)\n",
    "\n",
    "#dropping individual columns\n",
    "new_df = new_df.drop(['oldbalanceOrg','newbalanceOrig','oldbalanceDest','newbalanceDest','step','nameOrig','nameDest'],axis=1)\n",
    "\n",
    "cal_vif(new_df)\n"
   ]
  },
  {
   "cell_type": "code",
   "execution_count": 19,
   "id": "9bd9b8f1",
   "metadata": {
    "execution": {
     "iopub.execute_input": "2024-02-24T14:08:05.983047Z",
     "iopub.status.busy": "2024-02-24T14:08:05.982326Z",
     "iopub.status.idle": "2024-02-24T14:08:07.447893Z",
     "shell.execute_reply": "2024-02-24T14:08:07.446972Z"
    },
    "papermill": {
     "duration": 1.501474,
     "end_time": "2024-02-24T14:08:07.449904",
     "exception": false,
     "start_time": "2024-02-24T14:08:05.948430",
     "status": "completed"
    },
    "tags": []
   },
   "outputs": [
    {
     "data": {
      "text/plain": [
       "<Axes: >"
      ]
     },
     "execution_count": 19,
     "metadata": {},
     "output_type": "execute_result"
    },
    {
     "data": {
      "image/png": "[encoded data removed]",
      "text/plain": [
       "<Figure size 1000x600 with 2 Axes>"
      ]
     },
     "metadata": {},
     "output_type": "display_data"
    }
   ],
   "source": [
    "#generating correlation matrix of the new updated dataframe\n",
    "corr=new_df.corr()\n",
    "\n",
    "plt.figure(figsize=(10,6))\n",
    "sns.heatmap(corr,annot=True)"
   ]
  },
  {
   "cell_type": "code",
   "execution_count": 20,
   "id": "e8fd9223",
   "metadata": {
    "execution": {
     "iopub.execute_input": "2024-02-24T14:08:07.477315Z",
     "iopub.status.busy": "2024-02-24T14:08:07.477016Z",
     "iopub.status.idle": "2024-02-24T14:08:07.762672Z",
     "shell.execute_reply": "2024-02-24T14:08:07.761854Z"
    },
    "papermill": {
     "duration": 0.302263,
     "end_time": "2024-02-24T14:08:07.765139",
     "exception": false,
     "start_time": "2024-02-24T14:08:07.462876",
     "status": "completed"
    },
    "tags": []
   },
   "outputs": [],
   "source": [
    "#importing libraries and modules for building our model\n",
    "from sklearn.preprocessing import StandardScaler\n",
    "from sklearn.model_selection import train_test_split\n",
    "from sklearn.ensemble import RandomForestClassifier\n",
    "from sklearn.tree import DecisionTreeClassifier\n",
    "import itertools\n",
    "from collections import Counter\n",
    "import sklearn.metrics as metrics\n",
    "from sklearn.metrics import classification_report, confusion_matrix, ConfusionMatrixDisplay"
   ]
  },
  {
   "cell_type": "code",
   "execution_count": 21,
   "id": "2059a1ac",
   "metadata": {
    "execution": {
     "iopub.execute_input": "2024-02-24T14:08:07.792939Z",
     "iopub.status.busy": "2024-02-24T14:08:07.792632Z",
     "iopub.status.idle": "2024-02-24T14:08:08.212357Z",
     "shell.execute_reply": "2024-02-24T14:08:08.211545Z"
    },
    "papermill": {
     "duration": 0.435882,
     "end_time": "2024-02-24T14:08:08.214634",
     "exception": false,
     "start_time": "2024-02-24T14:08:07.778752",
     "status": "completed"
    },
    "tags": []
   },
   "outputs": [],
   "source": [
    "#scaling and normalizing our data for better model accuracy and standardization\n",
    "scaler = StandardScaler()\n",
    "new_df[\"NormalizedAmount\"] = scaler.fit_transform(new_df[\"amount\"].values.reshape(-1, 1))\n",
    "new_df.drop([\"amount\"], inplace= True, axis= 1)\n",
    "\n",
    "Y = new_df[\"isFraud\"]\n",
    "X = new_df.drop([\"isFraud\"], axis= 1)"
   ]
  },
  {
   "cell_type": "code",
   "execution_count": 22,
   "id": "e822767e",
   "metadata": {
    "execution": {
     "iopub.execute_input": "2024-02-24T14:08:08.243341Z",
     "iopub.status.busy": "2024-02-24T14:08:08.242724Z",
     "iopub.status.idle": "2024-02-24T14:08:09.291438Z",
     "shell.execute_reply": "2024-02-24T14:08:09.290551Z"
    },
    "papermill": {
     "duration": 1.065298,
     "end_time": "2024-02-24T14:08:09.293677",
     "exception": false,
     "start_time": "2024-02-24T14:08:08.228379",
     "status": "completed"
    },
    "tags": []
   },
   "outputs": [
    {
     "name": "stdout",
     "output_type": "stream",
     "text": [
      "Shape of X_train:  (4453834, 6)\n",
      "Shape of X_test:  (1908786, 6)\n"
     ]
    }
   ],
   "source": [
    "#spliting the data in the training and testing dataset\n",
    "(X_train, X_test, Y_train, Y_test) = train_test_split(X, Y, test_size= 0.3, random_state= 42)\n",
    "\n",
    "print(\"Shape of X_train: \", X_train.shape)\n",
    "print(\"Shape of X_test: \", X_test.shape)"
   ]
  },
  {
   "cell_type": "code",
   "execution_count": 23,
   "id": "6740b15a",
   "metadata": {
    "execution": {
     "iopub.execute_input": "2024-02-24T14:08:09.321405Z",
     "iopub.status.busy": "2024-02-24T14:08:09.321108Z",
     "iopub.status.idle": "2024-02-24T14:09:09.075420Z",
     "shell.execute_reply": "2024-02-24T14:09:09.074619Z"
    },
    "papermill": {
     "duration": 59.770877,
     "end_time": "2024-02-24T14:09:09.077860",
     "exception": false,
     "start_time": "2024-02-24T14:08:09.306983",
     "status": "completed"
    },
    "tags": []
   },
   "outputs": [],
   "source": [
    "#DECISION TREE\n",
    "decision_tree = DecisionTreeClassifier()\n",
    "decision_tree.fit(X_train, Y_train)\n",
    "\n",
    "Y_pred_dt = decision_tree.predict(X_test)\n",
    "decision_tree_score = decision_tree.score(X_test, Y_test)*100"
   ]
  },
  {
   "cell_type": "code",
   "execution_count": 24,
   "id": "816433f1",
   "metadata": {
    "execution": {
     "iopub.execute_input": "2024-02-24T14:09:09.107613Z",
     "iopub.status.busy": "2024-02-24T14:09:09.107042Z",
     "iopub.status.idle": "2024-02-24T14:34:52.978911Z",
     "shell.execute_reply": "2024-02-24T14:34:52.977835Z"
    },
    "papermill": {
     "duration": 1543.888799,
     "end_time": "2024-02-24T14:34:52.981363",
     "exception": false,
     "start_time": "2024-02-24T14:09:09.092564",
     "status": "completed"
    },
    "tags": []
   },
   "outputs": [],
   "source": [
    "#RANDOM FORESTS\n",
    "random_forest = RandomForestClassifier(n_estimators = 100)\n",
    "random_forest.fit(X_train, Y_train)\n",
    "\n",
    "Y_pred_rf = random_forest.predict(X_test)\n",
    "random_forest_score = random_forest.score(X_test, Y_test)*100"
   ]
  },
  {
   "cell_type": "code",
   "execution_count": 25,
   "id": "bd58e36b",
   "metadata": {
    "execution": {
     "iopub.execute_input": "2024-02-24T14:34:53.009736Z",
     "iopub.status.busy": "2024-02-24T14:34:53.009183Z",
     "iopub.status.idle": "2024-02-24T14:34:53.013835Z",
     "shell.execute_reply": "2024-02-24T14:34:53.012915Z"
    },
    "papermill": {
     "duration": 0.020891,
     "end_time": "2024-02-24T14:34:53.015944",
     "exception": false,
     "start_time": "2024-02-24T14:34:52.995053",
     "status": "completed"
    },
    "tags": []
   },
   "outputs": [
    {
     "name": "stdout",
     "output_type": "stream",
     "text": [
      "Decision Tree Score:  99.9226733641173\n",
      "Random Forests Score:  99.95850765879464\n"
     ]
    }
   ],
   "source": [
    "#score of classifiers\n",
    "print(\"Decision Tree Score: \", decision_tree_score)\n",
    "print(\"Random Forests Score: \", random_forest_score)"
   ]
  },
  {
   "cell_type": "code",
   "execution_count": 26,
   "id": "89ed63ff",
   "metadata": {
    "execution": {
     "iopub.execute_input": "2024-02-24T14:34:53.044075Z",
     "iopub.status.busy": "2024-02-24T14:34:53.043515Z",
     "iopub.status.idle": "2024-02-24T14:34:55.429559Z",
     "shell.execute_reply": "2024-02-24T14:34:55.428567Z"
    },
    "papermill": {
     "duration": 2.40244,
     "end_time": "2024-02-24T14:34:55.431915",
     "exception": false,
     "start_time": "2024-02-24T14:34:53.029475",
     "status": "completed"
    },
    "tags": []
   },
   "outputs": [
    {
     "name": "stdout",
     "output_type": "stream",
     "text": [
      "TP, FP, TN, FN - DECISION TREE\n",
      "True Positives: 1714\n",
      "False Positives: 755\n",
      "True Negatives: 1905596\n",
      "False Negatives: 721\n",
      "\n",
      "Confusion Matrix - Decision Tree\n",
      "[[1905596     755]\n",
      " [    721    1714]]\n",
      "---------------------------------------------------------------------------------------------------------\n",
      "TP, FP, TN, FN - RANDOM FORESTS\n",
      "True Positives: 1712\n",
      "False Positives: 69\n",
      "True Negatives: 1906282\n",
      "False Negatives: 723\n",
      "\n",
      "Confusion Matrix - Random Forest\n",
      "[[1906282      69]\n",
      " [    723    1712]]\n",
      "---------------------------------------------------------------------------------------------------------\n"
     ]
    }
   ],
   "source": [
    "#confusion matrix for decision tree\n",
    "print(\"TP, FP, TN, FN - DECISION TREE\")\n",
    "tn, fp, fn, tp = confusion_matrix(Y_test, Y_pred_dt).ravel()\n",
    "\n",
    "print(f'True Positives: {tp}')\n",
    "print(f'False Positives: {fp}')\n",
    "print(f'True Negatives: {tn}')\n",
    "print(f'False Negatives: {fn}')\n",
    "\n",
    "confusion_matrix_dt = confusion_matrix(Y_test, Y_pred_dt.round())\n",
    "print(\"\\nConfusion Matrix - Decision Tree\")\n",
    "print(confusion_matrix_dt)\n",
    "\n",
    "print(\"---------------------------------------------------------------------------------------------------------\")\n",
    "#confusion matrix for random forests\n",
    "print(\"TP, FP, TN, FN - RANDOM FORESTS\")\n",
    "tn, fp, fn, tp = confusion_matrix(Y_test, Y_pred_rf).ravel()\n",
    "\n",
    "print(f'True Positives: {tp}')\n",
    "print(f'False Positives: {fp}')\n",
    "print(f'True Negatives: {tn}')\n",
    "print(f'False Negatives: {fn}')\n",
    "\n",
    "confusion_matrix_rf = confusion_matrix(Y_test, Y_pred_rf.round())\n",
    "print(\"\\nConfusion Matrix - Random Forest\")\n",
    "print(confusion_matrix_rf)\n",
    "print(\"---------------------------------------------------------------------------------------------------------\")\n"
   ]
  },
  {
   "cell_type": "code",
   "execution_count": 27,
   "id": "09331539",
   "metadata": {
    "execution": {
     "iopub.execute_input": "2024-02-24T14:34:55.465495Z",
     "iopub.status.busy": "2024-02-24T14:34:55.465175Z",
     "iopub.status.idle": "2024-02-24T14:35:07.110697Z",
     "shell.execute_reply": "2024-02-24T14:35:07.109718Z"
    },
    "papermill": {
     "duration": 11.664839,
     "end_time": "2024-02-24T14:35:07.113186",
     "exception": false,
     "start_time": "2024-02-24T14:34:55.448347",
     "status": "completed"
    },
    "tags": []
   },
   "outputs": [
    {
     "name": "stdout",
     "output_type": "stream",
     "text": [
      "Classification Report - Decision Tree\n",
      "              precision    recall  f1-score   support\n",
      "\n",
      "           0       1.00      1.00      1.00   1906351\n",
      "           1       0.69      0.70      0.70      2435\n",
      "\n",
      "    accuracy                           1.00   1908786\n",
      "   macro avg       0.85      0.85      0.85   1908786\n",
      "weighted avg       1.00      1.00      1.00   1908786\n",
      "\n",
      "---------------------------------------------------------------------------------------------------------\n",
      "Classification Report - Random Forests\n",
      "              precision    recall  f1-score   support\n",
      "\n",
      "           0       1.00      1.00      1.00   1906351\n",
      "           1       0.69      0.70      0.70      2435\n",
      "\n",
      "    accuracy                           1.00   1908786\n",
      "   macro avg       0.85      0.85      0.85   1908786\n",
      "weighted avg       1.00      1.00      1.00   1908786\n",
      "\n"
     ]
    }
   ],
   "source": [
    "#classification report - dt\n",
    "classification_dt = classification_report(Y_test, Y_pred_dt)\n",
    "print(\"Classification Report - Decision Tree\")\n",
    "print(classification_dt)\n",
    "\n",
    "\n",
    "print(\"---------------------------------------------------------------------------------------------------------\")\n",
    "\n",
    "#classification report - rf\n",
    "classification_rf = classification_report(Y_test, Y_pred_rf)\n",
    "print(\"Classification Report - Random Forests\")\n",
    "print(classification_dt)\n",
    "\n",
    "\n"
   ]
  },
  {
   "cell_type": "code",
   "execution_count": 28,
   "id": "da55fa30",
   "metadata": {
    "execution": {
     "iopub.execute_input": "2024-02-24T14:35:07.186979Z",
     "iopub.status.busy": "2024-02-24T14:35:07.186610Z",
     "iopub.status.idle": "2024-02-24T14:35:07.613589Z",
     "shell.execute_reply": "2024-02-24T14:35:07.612789Z"
    },
    "papermill": {
     "duration": 0.486682,
     "end_time": "2024-02-24T14:35:07.615752",
     "exception": false,
     "start_time": "2024-02-24T14:35:07.129070",
     "status": "completed"
    },
    "tags": []
   },
   "outputs": [
    {
     "data": {
      "image/png": "[encoded data removed]",
      "text/plain": [
       "<Figure size 640x480 with 2 Axes>"
      ]
     },
     "metadata": {},
     "output_type": "display_data"
    },
    {
     "data": {
      "image/png": "[encoded data removed]",
      "text/plain": [
       "<Figure size 640x480 with 2 Axes>"
      ]
     },
     "metadata": {},
     "output_type": "display_data"
    }
   ],
   "source": [
    "#confusion matrix - decision tree vizualization \n",
    "decision_cf = ConfusionMatrixDisplay(confusion_matrix = confusion_matrix_dt)\n",
    "decision_cf.plot()\n",
    "plt.title(\"Decision Tree Confusion Matrix\")\n",
    "plt.show()\n",
    "\n",
    "\n",
    "#confusion matrix - random forests vizualization \n",
    "random_forest_cf = ConfusionMatrixDisplay(confusion_matrix = confusion_matrix_rf)\n",
    "random_forest_cf.plot()\n",
    "plt.title(\"Random Forest Confusion Matrix\")\n",
    "plt.show()\n",
    "\n"
   ]
  },
  {
   "cell_type": "code",
   "execution_count": 29,
   "id": "0943994a",
   "metadata": {
    "execution": {
     "iopub.execute_input": "2024-02-24T14:35:07.647290Z",
     "iopub.status.busy": "2024-02-24T14:35:07.646996Z",
     "iopub.status.idle": "2024-02-24T14:35:08.377825Z",
     "shell.execute_reply": "2024-02-24T14:35:08.376995Z"
    },
    "papermill": {
     "duration": 0.748828,
     "end_time": "2024-02-24T14:35:08.380058",
     "exception": false,
     "start_time": "2024-02-24T14:35:07.631230",
     "status": "completed"
    },
    "tags": []
   },
   "outputs": [
    {
     "data": {
      "image/png": "[encoded data removed]",
      "text/plain": [
       "<Figure size 640x480 with 1 Axes>"
      ]
     },
     "metadata": {},
     "output_type": "display_data"
    },
    {
     "data": {
      "image/png": "[encoded data removed]",
      "text/plain": [
       "<Figure size 640x480 with 1 Axes>"
      ]
     },
     "metadata": {},
     "output_type": "display_data"
    }
   ],
   "source": [
    "# AUC ROC - DT\n",
    "# calculate the fpr and tpr for all thresholds of the classification\n",
    "\n",
    "fpr, tpr, threshold = metrics.roc_curve(Y_test, Y_pred_dt)\n",
    "roc_auc = metrics.auc(fpr, tpr)\n",
    "\n",
    "plt.title('ROC - DT')\n",
    "plt.plot(fpr, tpr, 'b', label = 'AUC = %0.2f' % roc_auc)\n",
    "plt.legend(loc = 'lower right')\n",
    "plt.plot([0, 1], [0, 1],'r--')\n",
    "plt.xlim([0, 1])\n",
    "plt.ylim([0, 1])\n",
    "plt.ylabel('True Positive Rate')\n",
    "plt.xlabel('False Positive Rate')\n",
    "plt.show()\n",
    "\n",
    "\n",
    "# AUC ROC - RF\n",
    "# calculate the fpr and tpr for all thresholds of the classification\n",
    "\n",
    "fpr, tpr, threshold = metrics.roc_curve(Y_test, Y_pred_rf)\n",
    "roc_auc = metrics.auc(fpr, tpr)\n",
    "\n",
    "plt.title('ROC - RF')\n",
    "plt.plot(fpr, tpr, 'b', label = 'AUC = %0.2f' % roc_auc)\n",
    "plt.legend(loc = 'lower right')\n",
    "plt.plot([0, 1], [0, 1],'r--')\n",
    "plt.xlim([0, 1])\n",
    "plt.ylim([0, 1])\n",
    "plt.ylabel('True Positive Rate')\n",
    "plt.xlabel('False Positive Rate')\n",
    "plt.show()"
   ]
  }
 ],
 "metadata": {
  "kaggle": {
   "accelerator": "nvidiaTeslaT4",
   "dataSources": [
    {
     "datasetId": 1964310,
     "sourceId": 3240868,
     "sourceType": "datasetVersion"
    }
   ],
   "dockerImageVersionId": 30646,
   "isGpuEnabled": true,
   "isInternetEnabled": false,
   "language": "python",
   "sourceType": "notebook"
  },
  "kernelspec": {
   "display_name": "Python 3",
   "language": "python",
   "name": "python3"
  },
  "language_info": {
   "codemirror_mode": {
    "name": "ipython",
    "version": 3
   },
   "file_extension": ".py",
   "mimetype": "text/x-python",
   "name": "python",
   "nbconvert_exporter": "python",
   "pygments_lexer": "ipython3",
   "version": "3.10.13"
  },
  "papermill": {
   "default_parameters": {},
   "duration": 2105.257765,
   "end_time": "2024-02-24T14:35:10.826972",
   "environment_variables": {},
   "exception": null,
   "input_path": "__notebook__.ipynb",
   "output_path": "__notebook__.ipynb",
   "parameters": {},
   "start_time": "2024-02-24T14:00:05.569207",
   "version": "2.5.0"
  }
 },
 "nbformat": 4,
 "nbformat_minor": 5
}
